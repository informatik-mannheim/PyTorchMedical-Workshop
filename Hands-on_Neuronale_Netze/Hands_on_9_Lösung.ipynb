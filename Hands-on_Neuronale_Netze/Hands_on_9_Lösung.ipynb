{
  "nbformat": 4,
  "nbformat_minor": 0,
  "metadata": {
    "colab": {
      "name": "Hands-on 9_Lösung.ipynb",
      "version": "0.3.2",
      "provenance": [],
      "collapsed_sections": []
    },
    "kernelspec": {
      "name": "python3",
      "display_name": "Python 3"
    },
    "accelerator": "GPU"
  },
  "cells": [
    {
      "metadata": {
        "id": "CyPxCjmK6cMc",
        "colab_type": "text"
      },
      "cell_type": "markdown",
      "source": [
        "# Das Wichtigste zu Collaboratory\n",
        "\n",
        "\n",
        "1.   Die Arbeitsfläche besteht aus Text- und/oder Codezellen.\n",
        "2.   Derzeit ausgewählte Codezellen können mit Strg + Enter oder durch Klicken auf den Play-Button ausgeführt werden.\n",
        "3.   Die Ergebnisse einer Codezelle gehen nach deren Ausführung nicht verloren und können von anderen Codezellen weiterverwendet werden.\n",
        "4.   Die Laufzeitumgebung kann mittels Strg + M oder im oberen Reiter unter Runtime --> Restart runtime zurückgesetzt werden. Dies kann unter anderem auch bei dem Fehler \"AttributeError: module 'PIL.Image' has no attribute 'register_decoder'\" Abhilfe schaffen.\n",
        "\n",
        "\n"
      ]
    },
    {
      "metadata": {
        "id": "FZqLMMtq6Ef1",
        "colab_type": "text"
      },
      "cell_type": "markdown",
      "source": [
        "# PyTorch installieren"
      ]
    },
    {
      "metadata": {
        "id": "IRPyRf71v6qx",
        "colab_type": "code",
        "colab": {}
      },
      "cell_type": "code",
      "source": [
        "#Install Pytorch\n",
        "from os import path\n",
        "from wheel.pep425tags import get_abbr_impl, get_impl_ver, get_abi_tag\n",
        "\n",
        "platform = '{}{}-{}'.format(get_abbr_impl(), get_impl_ver(), get_abi_tag())\n",
        "accelerator = 'cu80' if path.exists('/opt/bin/nvidia-smi') else 'cpu'\n",
        "\n",
        "!pip install -q http://download.pytorch.org/whl/{accelerator}/torch-1.0.0-{platform}-linux_x86_64.whl torchvision"
      ],
      "execution_count": 0,
      "outputs": []
    },
    {
      "metadata": {
        "id": "kmFIvm_x6VJl",
        "colab_type": "text"
      },
      "cell_type": "markdown",
      "source": [
        "# Mit Drive verbinden"
      ]
    },
    {
      "metadata": {
        "id": "2sE92t264-1e",
        "colab_type": "code",
        "colab": {}
      },
      "cell_type": "code",
      "source": [
        "from google.colab import drive\n",
        "drive.mount('/content/drive')"
      ],
      "execution_count": 0,
      "outputs": []
    },
    {
      "metadata": {
        "id": "K5fMi5Db60-c",
        "colab_type": "text"
      },
      "cell_type": "markdown",
      "source": [
        "# Bugfix Dateiendungen\n",
        "\n",
        "Es hat sich gezeigt, dass beim Laden von Bilddateien aus Drive die Dateiendungen nicht erkannt werden. Dies sollte eigentlich nicht der Fall sein, durch folgenden Workaround können die Endungen aber auch nachträglich gesetzt werden."
      ]
    },
    {
      "metadata": {
        "id": "AY2knav46E9d",
        "colab_type": "code",
        "colab": {}
      },
      "cell_type": "code",
      "source": [
        "# workaround \n",
        "from PIL import Image\n",
        "def register_extension(id, extension): Image.EXTENSION[extension.lower()] = id.upper()\n",
        "Image.register_extension = register_extension\n",
        "def register_extensions(id, extensions): \n",
        "  for extension in extensions: register_extension(id, extension)\n",
        "Image.register_extensions = register_extensions"
      ],
      "execution_count": 0,
      "outputs": []
    },
    {
      "metadata": {
        "id": "squC6arp8FcU",
        "colab_type": "text"
      },
      "cell_type": "markdown",
      "source": [
        "# Unser Klassifikator\n",
        "\n",
        "In die nachfolgende Codezelle soll nun der bisherige Klassifikator eingefügt werden (Copy + Paste).\n",
        "Am Code sollten keine größeren Anpassungen notwendig sein. Lediglich die Pfade zu den Bildern müssen ggf. an Drive angepasst werden. \n",
        "\n",
        "Wenn Drive zuvor angebunden wurde, kann die bestehende Ordnerstruktur im ausklappbaren Reiter links auf der Seite unter \"Files\" eingesehen werden. Alle dort angezeigten Ordner und Dateien liegen intern im Verzeichnis \"**drive/My Drive**\"."
      ]
    },
    {
      "metadata": {
        "id": "Ak2Hx-alBbpa",
        "colab_type": "code",
        "colab": {}
      },
      "cell_type": "code",
      "source": [
        "import torch\n",
        "import torchvision\n",
        "import torchvision.transforms as transforms\n",
        "import matplotlib.pyplot as plt\n",
        "import numpy as np\n",
        "import torch.nn as nn\n",
        "import torch.nn.functional as F\n",
        "import torch.optim as optim\n",
        "\n",
        "class MyClassifier(nn.Module):\n",
        "    def __init__(self):\n",
        "        super(MyClassifier, self).__init__()\n",
        "        self.conv1 = nn.Conv2d(3, 6, 5)\n",
        "        self.pool1 = nn.MaxPool2d(4, 4)    \n",
        "        self.conv2 = nn.Conv2d(6, 16, 5)\n",
        "        self.pool2 = nn.MaxPool2d(4, 4)\n",
        "        self.fc1 = nn.Linear(16 * 5 * 5, 120)\n",
        "        self.fc2 = nn.Linear(120, 70)\n",
        "        self.fc3 = nn.Linear(70, 5)\n",
        "    \n",
        "    def forward(self, x):\n",
        "        x = self.pool1(self.conv1(x))\n",
        "        x = self.pool2(self.conv2(x))\n",
        "        x = x.view(-1, 16 * 5 * 5)\n",
        "        x = F.relu(self.fc1(x))\n",
        "        x = F.relu(self.fc2(x))\n",
        "        x = F.relu(self.fc3(x))\n",
        "        return x   \n",
        "\n",
        "def train(net, epochs):    \n",
        "    trainloader = load_dataset('drive/My Drive/pytorch_google_imgs/train')  \n",
        "    criterion = nn.CrossEntropyLoss()\n",
        "    optimizer = optim.SGD(net.parameters(), lr=0.001, momentum=0.9)    \n",
        "    \n",
        "     #Eine Epoche entspricht einem kompletten Trainingsdurchlauf (alle Trainingsdaten einmal trainiert)\n",
        "    for epoch in range(epochs): \n",
        "        for i, data in enumerate(trainloader, 0):            \n",
        "            inputs, labels = data        \n",
        "        \n",
        "            #Zunächst den Gradientenbuffer zurücksetzen\n",
        "            optimizer.zero_grad()\n",
        "        \n",
        "            #Anschließend die Ausgabe des Netzes für eine Eingabe bestimmen\n",
        "            outputs = net(inputs)   \n",
        "            \n",
        "            #Daraufhin den Fehler mithilfe der Fehlerfunktion bestimmen\n",
        "            loss = criterion(outputs, labels)\n",
        "            loss.backward()\n",
        "            \n",
        "            #Sowie abschließend den Fehler durch das Optimierungsverfahren minimieren\n",
        "            optimizer.step()\n",
        "            \n",
        "##############################################################################\n",
        "# An den untenstehenden Hilfsmethoden müssen Sie keine Anpassungen vornehmen.#\n",
        "##############################################################################\n",
        "    \n",
        "def getAccuracy(net):\n",
        "    testloader = load_dataset('drive/My Drive/pytorch_google_imgs/test')\n",
        "    correct = 0\n",
        "    total = 0\n",
        "    \n",
        "    with torch.no_grad():\n",
        "        for data in testloader:\n",
        "            images, labels = data\n",
        "            outputs = net(images)\n",
        "            _, predicted = torch.max(outputs.data, 1)\n",
        "            total += labels.size(0)\n",
        "            correct += (predicted == labels).sum().item()\n",
        "    \n",
        "    print(str(100 * correct / total)+\" % of the 125 test images were classified correct.\")\n",
        "    \n",
        "def showRandomPredictions(net):\n",
        "    testloader = load_dataset('drive/My Drive/pytorch_google_imgs/test')\n",
        "    dataiter = iter(testloader)\n",
        "    images, labels = dataiter.next()\n",
        "    \n",
        "    #Zuordnung der Klassen erfolgt durch torch automatisch über den Ordnernamen in dieser Reihenfolge\n",
        "    classes = ('intestines', 'kidneys', 'liver', 'lungs', 'stomach')\n",
        "    \n",
        "    #get predicted results\n",
        "    outputs = net(images)\n",
        "    _, predicted = torch.max(outputs, 1)\n",
        "    \n",
        "    # print images\n",
        "    imshow(torchvision.utils.make_grid(images))\n",
        "    print('Correct classes are:  ', ' '.join('%5s' % classes[labels[j]] for j in range(4)))   \n",
        "    print('Classifier predicted: ', ' '.join('%5s' % classes[predicted[j]] for j in range(4)))\n",
        "    \n",
        "\n",
        "def load_dataset(data_dir):\n",
        "    transform = transforms.Compose(\n",
        "    [transforms.ToTensor(),\n",
        "     transforms.Normalize((0.5, 0.5, 0.5), (0.5, 0.5, 0.5))])        \n",
        "    dset = torchvision.datasets.ImageFolder(data_dir, transform)     \n",
        "    return torch.utils.data.DataLoader(dset, batch_size=4, shuffle=True, num_workers=4)\n",
        "\n",
        "def imshow(img):\n",
        "    img = img / 2 + 0.5\n",
        "    npimg = img.numpy()\n",
        "    plt.imshow(np.transpose(npimg, (1, 2, 0)))\n",
        "\n",
        "#In Windows muss aufgrund eines Bugs diese if-Abfrage gesetzt sein\n",
        "if __name__ == \"__main__\":\n",
        "    __spec__ = None\n",
        "    net = MyClassifier()    \n",
        "    train(net, 20)\n",
        "    getAccuracy(net)\n",
        "    showRandomPredictions(net)"
      ],
      "execution_count": 0,
      "outputs": []
    }
  ]
}