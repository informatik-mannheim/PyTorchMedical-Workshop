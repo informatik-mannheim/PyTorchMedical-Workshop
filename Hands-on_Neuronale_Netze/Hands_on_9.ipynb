{
  "nbformat": 4,
  "nbformat_minor": 0,
  "metadata": {
    "colab": {
      "name": "Hands-on 9.ipynb",
      "version": "0.3.2",
      "provenance": [],
      "collapsed_sections": []
    },
    "kernelspec": {
      "name": "python3",
      "display_name": "Python 3"
    },
    "accelerator": "GPU"
  },
  "cells": [
    {
      "metadata": {
        "id": "CyPxCjmK6cMc",
        "colab_type": "text"
      },
      "cell_type": "markdown",
      "source": [
        "# Das Wichtigste zu Collaboratory\n",
        "\n",
        "\n",
        "1.   Die Arbeitsfläche besteht aus Text- und/oder Codezellen.\n",
        "2.   Derzeit ausgewählte Codezellen können mit Strg + Enter oder durch Klicken auf den Play-Button ausgeführt werden.\n",
        "3.   Die Ergebnisse einer Codezelle gehen nach deren Ausführung nicht verloren und können von anderen Codezellen weiterverwendet werden.\n",
        "4.   Die Laufzeitumgebung kann mittels Strg + M oder im oberen Reiter unter Runtime --> Restart runtime zurückgesetzt werden. Dies kann unter anderem bei unerwarteten Fehlern Abhilfe schaffen.\n",
        "\n",
        "\n"
      ]
    },
    {
      "metadata": {
        "id": "FZqLMMtq6Ef1",
        "colab_type": "text"
      },
      "cell_type": "markdown",
      "source": [
        "# PyTorch installieren"
      ]
    },
    {
      "metadata": {
        "id": "IRPyRf71v6qx",
        "colab_type": "code",
        "colab": {}
      },
      "cell_type": "code",
      "source": [
        "#Install Pytorch\n",
        "from os import path\n",
        "from wheel.pep425tags import get_abbr_impl, get_impl_ver, get_abi_tag\n",
        "\n",
        "platform = '{}{}-{}'.format(get_abbr_impl(), get_impl_ver(), get_abi_tag())\n",
        "accelerator = 'cu80' if path.exists('/opt/bin/nvidia-smi') else 'cpu'\n",
        "\n",
        "!pip install -q http://download.pytorch.org/whl/{accelerator}/torch-1.0.0-{platform}-linux_x86_64.whl torchvision"
      ],
      "execution_count": 0,
      "outputs": []
    },
    {
      "metadata": {
        "id": "kmFIvm_x6VJl",
        "colab_type": "text"
      },
      "cell_type": "markdown",
      "source": [
        "# Mit Drive verbinden"
      ]
    },
    {
      "metadata": {
        "id": "2sE92t264-1e",
        "colab_type": "code",
        "colab": {}
      },
      "cell_type": "code",
      "source": [
        "from google.colab import drive\n",
        "drive.mount('/content/drive')"
      ],
      "execution_count": 0,
      "outputs": []
    },
    {
      "metadata": {
        "id": "K5fMi5Db60-c",
        "colab_type": "text"
      },
      "cell_type": "markdown",
      "source": [
        "# Bugfix Dateiendungen\n",
        "\n",
        "Es hat sich gezeigt, dass beim Laden von Bilddateien aus Drive die Dateiendungen nicht erkannt werden. Dies sollte eigentlich nicht der Fall sein, durch folgenden Workaround können die Endungen aber auch nachträglich gesetzt werden."
      ]
    },
    {
      "metadata": {
        "id": "AY2knav46E9d",
        "colab_type": "code",
        "colab": {}
      },
      "cell_type": "code",
      "source": [
        "# workaround \n",
        "from PIL import Image\n",
        "def register_extension(id, extension): Image.EXTENSION[extension.lower()] = id.upper()\n",
        "Image.register_extension = register_extension\n",
        "def register_extensions(id, extensions): \n",
        "  for extension in extensions: register_extension(id, extension)\n",
        "Image.register_extensions = register_extensions"
      ],
      "execution_count": 0,
      "outputs": []
    },
    {
      "metadata": {
        "id": "squC6arp8FcU",
        "colab_type": "text"
      },
      "cell_type": "markdown",
      "source": [
        "# Unser Klassifikator\n",
        "\n",
        "In die nachfolgende Codezelle soll nun der bisherige Klassifikator eingefügt werden (Copy + Paste).\n",
        "Am Code sollten keine größeren Anpassungen notwendig sein. Lediglich die Pfade zu den Bildern müssen ggf. an Drive angepasst werden. \n",
        "\n",
        "Wenn Drive zuvor angebunden wurde, kann die bestehende Ordnerstruktur im ausklappbaren Reiter links auf der Seite unter \"Files\" eingesehen werden. Alle dort angezeigten Ordner und Dateien liegen intern im Verzeichnis \"**drive/My Drive**\"."
      ]
    },
    {
      "metadata": {
        "id": "2ajxIqZqzgso",
        "colab_type": "code",
        "colab": {}
      },
      "cell_type": "code",
      "source": [
        "#Hier code einfügen"
      ],
      "execution_count": 0,
      "outputs": []
    }
  ]
}